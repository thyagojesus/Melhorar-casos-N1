{
  "nbformat": 4,
  "nbformat_minor": 0,
  "metadata": {
    "colab": {
      "provenance": [],
      "authorship_tag": "ABX9TyPbwW+EQdtcoYrocuDIPg9p",
      "include_colab_link": true
    },
    "kernelspec": {
      "name": "python3",
      "display_name": "Python 3"
    },
    "language_info": {
      "name": "python"
    },
    "widgets": {
      "application/vnd.jupyter.widget-state+json": {
        "7fb30c0b81be44db846d1ed86309f52f": {
          "model_module": "@jupyter-widgets/controls",
          "model_name": "HBoxModel",
          "model_module_version": "1.5.0",
          "state": {
            "_dom_classes": [],
            "_model_module": "@jupyter-widgets/controls",
            "_model_module_version": "1.5.0",
            "_model_name": "HBoxModel",
            "_view_count": null,
            "_view_module": "@jupyter-widgets/controls",
            "_view_module_version": "1.5.0",
            "_view_name": "HBoxView",
            "box_style": "",
            "children": [
              "IPY_MODEL_52c4fe4d9a9e42f5a3a174ddc92f3a3c"
            ],
            "layout": "IPY_MODEL_18dff7eb93db4d538e8d65c33037fb65"
          }
        },
        "52c4fe4d9a9e42f5a3a174ddc92f3a3c": {
          "model_module": "@jupyter-widgets/controls",
          "model_name": "TextareaModel",
          "model_module_version": "1.5.0",
          "state": {
            "_dom_classes": [],
            "_model_module": "@jupyter-widgets/controls",
            "_model_module_version": "1.5.0",
            "_model_name": "TextareaModel",
            "_view_count": null,
            "_view_module": "@jupyter-widgets/controls",
            "_view_module_version": "1.5.0",
            "_view_name": "TextareaView",
            "continuous_update": true,
            "description": "",
            "description_tooltip": null,
            "disabled": false,
            "layout": "IPY_MODEL_b70addd7fbb344e38d9a70e7f5efd6c9",
            "placeholder": "Digite o chamado a ser corrigido:",
            "rows": null,
            "style": "IPY_MODEL_efb71f93d9b143fa8847982b0114c0f7",
            "value": "**Problema relatado: Loja informa que todos os celulares estão com problema ao finalizar a venda, não finaliza\n\n**Procedimento Executado: solicitado para atualizar versão do linxmobile pelo linx updater, ler o qrcode no PDV1 feito acesso ao celular ID ID0QPE Solicitado teste de venda, venda finalizada normalmente\n\n**Evidências:\n\n**Solução: resolveu com a atualizao"
          }
        },
        "18dff7eb93db4d538e8d65c33037fb65": {
          "model_module": "@jupyter-widgets/base",
          "model_name": "LayoutModel",
          "model_module_version": "1.2.0",
          "state": {
            "_model_module": "@jupyter-widgets/base",
            "_model_module_version": "1.2.0",
            "_model_name": "LayoutModel",
            "_view_count": null,
            "_view_module": "@jupyter-widgets/base",
            "_view_module_version": "1.2.0",
            "_view_name": "LayoutView",
            "align_content": null,
            "align_items": null,
            "align_self": null,
            "border": null,
            "bottom": null,
            "display": null,
            "flex": null,
            "flex_flow": null,
            "grid_area": null,
            "grid_auto_columns": null,
            "grid_auto_flow": null,
            "grid_auto_rows": null,
            "grid_column": null,
            "grid_gap": null,
            "grid_row": null,
            "grid_template_areas": null,
            "grid_template_columns": null,
            "grid_template_rows": null,
            "height": null,
            "justify_content": null,
            "justify_items": null,
            "left": null,
            "margin": null,
            "max_height": null,
            "max_width": null,
            "min_height": null,
            "min_width": null,
            "object_fit": null,
            "object_position": null,
            "order": null,
            "overflow": null,
            "overflow_x": null,
            "overflow_y": null,
            "padding": null,
            "right": null,
            "top": null,
            "visibility": null,
            "width": null
          }
        },
        "b70addd7fbb344e38d9a70e7f5efd6c9": {
          "model_module": "@jupyter-widgets/base",
          "model_name": "LayoutModel",
          "model_module_version": "1.2.0",
          "state": {
            "_model_module": "@jupyter-widgets/base",
            "_model_module_version": "1.2.0",
            "_model_name": "LayoutModel",
            "_view_count": null,
            "_view_module": "@jupyter-widgets/base",
            "_view_module_version": "1.2.0",
            "_view_name": "LayoutView",
            "align_content": null,
            "align_items": null,
            "align_self": null,
            "border": null,
            "bottom": null,
            "display": null,
            "flex": null,
            "flex_flow": null,
            "grid_area": null,
            "grid_auto_columns": null,
            "grid_auto_flow": null,
            "grid_auto_rows": null,
            "grid_column": null,
            "grid_gap": null,
            "grid_row": null,
            "grid_template_areas": null,
            "grid_template_columns": null,
            "grid_template_rows": null,
            "height": "200px",
            "justify_content": null,
            "justify_items": null,
            "left": null,
            "margin": null,
            "max_height": null,
            "max_width": null,
            "min_height": null,
            "min_width": null,
            "object_fit": null,
            "object_position": null,
            "order": null,
            "overflow": null,
            "overflow_x": null,
            "overflow_y": null,
            "padding": null,
            "right": null,
            "top": null,
            "visibility": null,
            "width": "50%"
          }
        },
        "efb71f93d9b143fa8847982b0114c0f7": {
          "model_module": "@jupyter-widgets/controls",
          "model_name": "DescriptionStyleModel",
          "model_module_version": "1.5.0",
          "state": {
            "_model_module": "@jupyter-widgets/controls",
            "_model_module_version": "1.5.0",
            "_model_name": "DescriptionStyleModel",
            "_view_count": null,
            "_view_module": "@jupyter-widgets/base",
            "_view_module_version": "1.2.0",
            "_view_name": "StyleView",
            "description_width": ""
          }
        },
        "1a90850760b4483ca4e691156f72cb16": {
          "model_module": "@jupyter-widgets/controls",
          "model_name": "HBoxModel",
          "model_module_version": "1.5.0",
          "state": {
            "_dom_classes": [],
            "_model_module": "@jupyter-widgets/controls",
            "_model_module_version": "1.5.0",
            "_model_name": "HBoxModel",
            "_view_count": null,
            "_view_module": "@jupyter-widgets/controls",
            "_view_module_version": "1.5.0",
            "_view_name": "HBoxView",
            "box_style": "",
            "children": [
              "IPY_MODEL_83a6bb8d2e684aaf891681034d9aff10",
              "IPY_MODEL_0f404c75ad6e4263862838c80994218d"
            ],
            "layout": "IPY_MODEL_39a9099652724baaa28cd1c30d06552f"
          }
        },
        "83a6bb8d2e684aaf891681034d9aff10": {
          "model_module": "@jupyter-widgets/controls",
          "model_name": "ButtonModel",
          "model_module_version": "1.5.0",
          "state": {
            "_dom_classes": [],
            "_model_module": "@jupyter-widgets/controls",
            "_model_module_version": "1.5.0",
            "_model_name": "ButtonModel",
            "_view_count": null,
            "_view_module": "@jupyter-widgets/controls",
            "_view_module_version": "1.5.0",
            "_view_name": "ButtonView",
            "button_style": "success",
            "description": "Processar Chamado",
            "disabled": false,
            "icon": "",
            "layout": "IPY_MODEL_7e34492474fa460faaffaac5933dc879",
            "style": "IPY_MODEL_0189d230355d4910a6b4d250ba0d7d7b",
            "tooltip": ""
          }
        },
        "0f404c75ad6e4263862838c80994218d": {
          "model_module": "@jupyter-widgets/controls",
          "model_name": "ButtonModel",
          "model_module_version": "1.5.0",
          "state": {
            "_dom_classes": [],
            "_model_module": "@jupyter-widgets/controls",
            "_model_module_version": "1.5.0",
            "_model_name": "ButtonModel",
            "_view_count": null,
            "_view_module": "@jupyter-widgets/controls",
            "_view_module_version": "1.5.0",
            "_view_name": "ButtonView",
            "button_style": "warning",
            "description": "Limpar",
            "disabled": false,
            "icon": "",
            "layout": "IPY_MODEL_952996e018be44daa7a92d3a6173b18c",
            "style": "IPY_MODEL_3f0e11135d8b43218764cad0aae82a0b",
            "tooltip": ""
          }
        },
        "39a9099652724baaa28cd1c30d06552f": {
          "model_module": "@jupyter-widgets/base",
          "model_name": "LayoutModel",
          "model_module_version": "1.2.0",
          "state": {
            "_model_module": "@jupyter-widgets/base",
            "_model_module_version": "1.2.0",
            "_model_name": "LayoutModel",
            "_view_count": null,
            "_view_module": "@jupyter-widgets/base",
            "_view_module_version": "1.2.0",
            "_view_name": "LayoutView",
            "align_content": null,
            "align_items": null,
            "align_self": null,
            "border": null,
            "bottom": null,
            "display": null,
            "flex": null,
            "flex_flow": null,
            "grid_area": null,
            "grid_auto_columns": null,
            "grid_auto_flow": null,
            "grid_auto_rows": null,
            "grid_column": null,
            "grid_gap": null,
            "grid_row": null,
            "grid_template_areas": null,
            "grid_template_columns": null,
            "grid_template_rows": null,
            "height": null,
            "justify_content": null,
            "justify_items": null,
            "left": null,
            "margin": null,
            "max_height": null,
            "max_width": null,
            "min_height": null,
            "min_width": null,
            "object_fit": null,
            "object_position": null,
            "order": null,
            "overflow": null,
            "overflow_x": null,
            "overflow_y": null,
            "padding": null,
            "right": null,
            "top": null,
            "visibility": null,
            "width": null
          }
        },
        "7e34492474fa460faaffaac5933dc879": {
          "model_module": "@jupyter-widgets/base",
          "model_name": "LayoutModel",
          "model_module_version": "1.2.0",
          "state": {
            "_model_module": "@jupyter-widgets/base",
            "_model_module_version": "1.2.0",
            "_model_name": "LayoutModel",
            "_view_count": null,
            "_view_module": "@jupyter-widgets/base",
            "_view_module_version": "1.2.0",
            "_view_name": "LayoutView",
            "align_content": null,
            "align_items": null,
            "align_self": null,
            "border": null,
            "bottom": null,
            "display": null,
            "flex": null,
            "flex_flow": null,
            "grid_area": null,
            "grid_auto_columns": null,
            "grid_auto_flow": null,
            "grid_auto_rows": null,
            "grid_column": null,
            "grid_gap": null,
            "grid_row": null,
            "grid_template_areas": null,
            "grid_template_columns": null,
            "grid_template_rows": null,
            "height": null,
            "justify_content": null,
            "justify_items": null,
            "left": null,
            "margin": null,
            "max_height": null,
            "max_width": null,
            "min_height": null,
            "min_width": null,
            "object_fit": null,
            "object_position": null,
            "order": null,
            "overflow": null,
            "overflow_x": null,
            "overflow_y": null,
            "padding": null,
            "right": null,
            "top": null,
            "visibility": null,
            "width": null
          }
        },
        "0189d230355d4910a6b4d250ba0d7d7b": {
          "model_module": "@jupyter-widgets/controls",
          "model_name": "ButtonStyleModel",
          "model_module_version": "1.5.0",
          "state": {
            "_model_module": "@jupyter-widgets/controls",
            "_model_module_version": "1.5.0",
            "_model_name": "ButtonStyleModel",
            "_view_count": null,
            "_view_module": "@jupyter-widgets/base",
            "_view_module_version": "1.2.0",
            "_view_name": "StyleView",
            "button_color": null,
            "font_weight": ""
          }
        },
        "952996e018be44daa7a92d3a6173b18c": {
          "model_module": "@jupyter-widgets/base",
          "model_name": "LayoutModel",
          "model_module_version": "1.2.0",
          "state": {
            "_model_module": "@jupyter-widgets/base",
            "_model_module_version": "1.2.0",
            "_model_name": "LayoutModel",
            "_view_count": null,
            "_view_module": "@jupyter-widgets/base",
            "_view_module_version": "1.2.0",
            "_view_name": "LayoutView",
            "align_content": null,
            "align_items": null,
            "align_self": null,
            "border": null,
            "bottom": null,
            "display": null,
            "flex": null,
            "flex_flow": null,
            "grid_area": null,
            "grid_auto_columns": null,
            "grid_auto_flow": null,
            "grid_auto_rows": null,
            "grid_column": null,
            "grid_gap": null,
            "grid_row": null,
            "grid_template_areas": null,
            "grid_template_columns": null,
            "grid_template_rows": null,
            "height": null,
            "justify_content": null,
            "justify_items": null,
            "left": null,
            "margin": null,
            "max_height": null,
            "max_width": null,
            "min_height": null,
            "min_width": null,
            "object_fit": null,
            "object_position": null,
            "order": null,
            "overflow": null,
            "overflow_x": null,
            "overflow_y": null,
            "padding": null,
            "right": null,
            "top": null,
            "visibility": null,
            "width": null
          }
        },
        "3f0e11135d8b43218764cad0aae82a0b": {
          "model_module": "@jupyter-widgets/controls",
          "model_name": "ButtonStyleModel",
          "model_module_version": "1.5.0",
          "state": {
            "_model_module": "@jupyter-widgets/controls",
            "_model_module_version": "1.5.0",
            "_model_name": "ButtonStyleModel",
            "_view_count": null,
            "_view_module": "@jupyter-widgets/base",
            "_view_module_version": "1.2.0",
            "_view_name": "StyleView",
            "button_color": null,
            "font_weight": ""
          }
        },
        "eacaa5394ec24d7a8031361dc85ad3a4": {
          "model_module": "@jupyter-widgets/output",
          "model_name": "OutputModel",
          "model_module_version": "1.0.0",
          "state": {
            "_dom_classes": [],
            "_model_module": "@jupyter-widgets/output",
            "_model_module_version": "1.0.0",
            "_model_name": "OutputModel",
            "_view_count": null,
            "_view_module": "@jupyter-widgets/output",
            "_view_module_version": "1.0.0",
            "_view_name": "OutputView",
            "layout": "IPY_MODEL_ede2efbcc7c244f8a4aa733e28bd088c",
            "msg_id": "",
            "outputs": [
              {
                "output_type": "stream",
                "name": "stdout",
                "text": [
                  "## DETALHES DO CASO\n",
                  "\n",
                  "**Problema relatado:** A loja relatou que não conseguiam finalizar nenhuma venda de celular, o sistema simplesmente parava no final do processo.\n",
                  "\n",
                  "**Procedimento Executado:** \n",
                  "* Foi solicitado que a loja atualizasse a versão do aplicativo LinxMobile através do Linx Updater.\n",
                  "* Em seguida, pedimos que realizassem a leitura do QR Code no PDV 1 e acessassem o celular com o ID ID0QPE. \n",
                  "* Após a atualização, solicitamos um teste de venda, que foi finalizada com sucesso.\n",
                  "\n",
                  "**Evidências:** Sem evidências.\n",
                  "\n",
                  "**Solução:** O problema foi resolvido com a atualização do aplicativo LinxMobile. \n",
                  "\n"
                ]
              }
            ]
          }
        },
        "ede2efbcc7c244f8a4aa733e28bd088c": {
          "model_module": "@jupyter-widgets/base",
          "model_name": "LayoutModel",
          "model_module_version": "1.2.0",
          "state": {
            "_model_module": "@jupyter-widgets/base",
            "_model_module_version": "1.2.0",
            "_model_name": "LayoutModel",
            "_view_count": null,
            "_view_module": "@jupyter-widgets/base",
            "_view_module_version": "1.2.0",
            "_view_name": "LayoutView",
            "align_content": null,
            "align_items": null,
            "align_self": null,
            "border": null,
            "bottom": null,
            "display": null,
            "flex": null,
            "flex_flow": null,
            "grid_area": null,
            "grid_auto_columns": null,
            "grid_auto_flow": null,
            "grid_auto_rows": null,
            "grid_column": null,
            "grid_gap": null,
            "grid_row": null,
            "grid_template_areas": null,
            "grid_template_columns": null,
            "grid_template_rows": null,
            "height": null,
            "justify_content": null,
            "justify_items": null,
            "left": null,
            "margin": null,
            "max_height": null,
            "max_width": null,
            "min_height": null,
            "min_width": null,
            "object_fit": null,
            "object_position": null,
            "order": null,
            "overflow": null,
            "overflow_x": null,
            "overflow_y": null,
            "padding": null,
            "right": null,
            "top": null,
            "visibility": null,
            "width": null
          }
        }
      }
    }
  },
  "cells": [
    {
      "cell_type": "markdown",
      "metadata": {
        "id": "view-in-github",
        "colab_type": "text"
      },
      "source": [
        "<a href=\"https://colab.research.google.com/github/thyagojesus/Melhorar-casos-N1/blob/main/Melhorar_Casos_N1.ipynb\" target=\"_parent\"><img src=\"https://colab.research.google.com/assets/colab-badge.svg\" alt=\"Open In Colab\"/></a>"
      ]
    },
    {
      "cell_type": "markdown",
      "metadata": {
        "id": "Tce3stUlHN0L"
      },
      "source": [
        "Melhoria de Casos N1"
      ]
    },
    {
      "cell_type": "code",
      "source": [
        "!pip install -q -U google-generativeai # Instala a biblioteca google-generativeai\n",
        "\n",
        "# Importa as bibliotecas necessárias\n",
        "import google.generativeai as genai\n",
        "from google.colab import userdata\n",
        "from IPython.display import clear_output\n",
        "import ipywidgets as widgets\n",
        "from IPython.display import display\n"
      ],
      "metadata": {
        "id": "kZmOwQagVhcV"
      },
      "execution_count": 109,
      "outputs": []
    },
    {
      "cell_type": "code",
      "source": [
        "# Configura a API do Google Gemini\n",
        "GOOGLE_API_KEY = userdata.get('GOOGLE_API_KEY')\n",
        "genai.configure(api_key=GOOGLE_API_KEY)\n",
        "\n",
        "# Inicializa o modelo de linguagem Gemini\n",
        "model = genai.GenerativeModel('gemini-1.5-pro-latest')\n"
      ],
      "metadata": {
        "id": "qBmQMab1VoK6"
      },
      "execution_count": 110,
      "outputs": []
    },
    {
      "cell_type": "code",
      "source": [
        "# Define as instruções para o modelo\n",
        "orientacoes = \"\"\"Olá Gemini, preciso da sua ajuda para melhorar a descrição de alguns chamados.\n",
        "\n",
        "**Problema relatado:** Descreva de forma melhorada, clara e concisa o problema reportado pela franquia. Tente usar a maneira com que a franquia relatou, para que fique mais autêntico.\n",
        "\n",
        "**Procedimento Executado:** Liste as ações tomadas para investigar ou solucionar o problema até o momento. Mencione ferramentas utilizadas, testes realizados e resultados obtidos. Inclua detalhes relevantes, como nomes de sistemas, produtos, códigos de erro e ações que desencadeiam o problema. Adicione uma quebra de linha apos cada procedimento\n",
        "\n",
        "**Evidências:** Mencione quaisquer evidências coletadas, como prints, logs ou números de chamados. Se não houver evidências disponíveis, indique \"Sem evidências\".\n",
        "\n",
        "**Solução:** Descreva a solução implementada ou as próximas etapas a serem tomadas para resolver o problema. Se a solução ainda não foi encontrada, liste possíveis causas e soluções a serem investigadas. Priorize soluções práticas e imediatas para a franquia. É importante que a solução seja resumida, não ultrapassando 255 caracteres.\n",
        "\n",
        "**Por favor, lembre-se de:**\n",
        "\n",
        "* **Clareza e concisão:** As descrições devem ser fáceis de entender e ir direto ao ponto.\n",
        "* **Detalhes relevantes:** Inclua informações importantes que ajudem a entender o contexto do problema, como nomes de pessoas, sistemas e produtos envolvidos.\n",
        "* **Objetividade:** Evite opiniões pessoais ou julgamentos. Apresente os fatos de forma neutra.\n",
        "* **Foco na solução:** Direcione a descrição para a resolução do problema, apresentando as ações tomadas e as próximas etapas.\n",
        "* **Nomenclatura consistente:** Utilize termos técnicos de forma consistente ao longo da descrição.\n",
        "* **Personalização do atendimento:** Quando possível, mencione o nome da pessoa que está sendo atendida para demonstrar um atendimento personalizado.\n",
        "\n",
        "**Segue abaixo a estrutura dos casos, que não devem ser alterados:**\n",
        "\n",
        "---DETALHES DO CASO---\n",
        "*Problema relatado:*\n",
        "\n",
        "*Procedimento Executado:*\n",
        "\n",
        "*Evidências:*\n",
        "\n",
        "*Solução:*\n",
        "\"\"\""
      ],
      "metadata": {
        "id": "lOnTzbxgV1gx"
      },
      "execution_count": 111,
      "outputs": []
    },
    {
      "cell_type": "code",
      "source": [
        "# Cria os widgets da interface\n",
        "input_chamado = widgets.Textarea( # Área de texto para o usuário inserir o chamado\n",
        "    placeholder='Digite o chamado a ser corrigido:',\n",
        "    layout=widgets.Layout(width='50%', height='200px')\n",
        ")\n",
        "\n",
        "botao_processar = widgets.Button( # Botão para processar o chamado\n",
        "    description='Processar Chamado',\n",
        "    button_style='success',\n",
        ")\n",
        "\n",
        "botao_clear = widgets.Button( # Botão para limpar a entrada e o display\n",
        "    description='Limpar',\n",
        "    button_style='warning',\n",
        ")\n",
        "\n",
        "output_resultado = widgets.Output() # Container para exibir a resposta do modelo\n",
        "\n",
        "# Função para processar o chamado\n",
        "def processar_chamado(button):\n",
        "    with output_resultado:\n",
        "        clear_output() # Limpa o display\n",
        "        chamado = input_chamado.value # Obtém o texto do chamado\n",
        "        if chamado.strip().lower() == 'fim': # Verifica se o usuário quer encerrar\n",
        "            print(\"Programa encerrado! Até a proxima.\")\n",
        "            return\n",
        "        response = model.generate_content(f\"{orientacoes} \\n Com isso, corrija o seguinte chamado: \\n {chamado}\") # Gera a resposta do modelo\n",
        "        print(response.text) # Exibe a resposta\n",
        "\n",
        "# Função para limpar o input e o display\n",
        "def limpar_input_e_display(button):\n",
        "    input_chamado.value = '' # Limpa o input\n",
        "    with output_resultado:\n",
        "        clear_output() # Limpa o display\n",
        "# Conecta os botões às suas funções\n",
        "botao_processar.on_click(processar_chamado)\n",
        "botao_clear.on_click(limpar_input_e_display)\n",
        "\n",
        "# Exibe a interface\n",
        "display(widgets.HBox([input_chamado]), # Input em uma linha\n",
        "        widgets.HBox([botao_processar, botao_clear]), # Botões em outra linha\n",
        "        output_resultado) # Output em uma linha separada\n"
      ],
      "metadata": {
        "id": "uWLEvl36WEZ7",
        "outputId": "a26705db-2010-425c-b4f4-a89eafc1dde8",
        "colab": {
          "base_uri": "https://localhost:8080/",
          "height": 479,
          "referenced_widgets": [
            "7fb30c0b81be44db846d1ed86309f52f",
            "52c4fe4d9a9e42f5a3a174ddc92f3a3c",
            "18dff7eb93db4d538e8d65c33037fb65",
            "b70addd7fbb344e38d9a70e7f5efd6c9",
            "efb71f93d9b143fa8847982b0114c0f7",
            "1a90850760b4483ca4e691156f72cb16",
            "83a6bb8d2e684aaf891681034d9aff10",
            "0f404c75ad6e4263862838c80994218d",
            "39a9099652724baaa28cd1c30d06552f",
            "7e34492474fa460faaffaac5933dc879",
            "0189d230355d4910a6b4d250ba0d7d7b",
            "952996e018be44daa7a92d3a6173b18c",
            "3f0e11135d8b43218764cad0aae82a0b",
            "eacaa5394ec24d7a8031361dc85ad3a4",
            "ede2efbcc7c244f8a4aa733e28bd088c"
          ]
        }
      },
      "execution_count": 114,
      "outputs": [
        {
          "output_type": "display_data",
          "data": {
            "text/plain": [
              "HBox(children=(Textarea(value='', layout=Layout(height='200px', width='50%'), placeholder='Digite o chamado a …"
            ],
            "application/vnd.jupyter.widget-view+json": {
              "version_major": 2,
              "version_minor": 0,
              "model_id": "7fb30c0b81be44db846d1ed86309f52f"
            }
          },
          "metadata": {}
        },
        {
          "output_type": "display_data",
          "data": {
            "text/plain": [
              "HBox(children=(Button(button_style='success', description='Processar Chamado', style=ButtonStyle()), Button(bu…"
            ],
            "application/vnd.jupyter.widget-view+json": {
              "version_major": 2,
              "version_minor": 0,
              "model_id": "1a90850760b4483ca4e691156f72cb16"
            }
          },
          "metadata": {}
        },
        {
          "output_type": "display_data",
          "data": {
            "text/plain": [
              "Output()"
            ],
            "application/vnd.jupyter.widget-view+json": {
              "version_major": 2,
              "version_minor": 0,
              "model_id": "eacaa5394ec24d7a8031361dc85ad3a4"
            }
          },
          "metadata": {}
        }
      ]
    },
    {
      "cell_type": "code",
      "source": [
        "\n"
      ],
      "metadata": {
        "id": "wN5sDW_4WkxN"
      },
      "execution_count": 107,
      "outputs": []
    },
    {
      "cell_type": "markdown",
      "source": [
        "# **Como usar**\n",
        "Para utilizá-lo, insira o texto do chamado a ser corrigido no input. mantendo a estrutura original com os campos \"Problema relatado\", \"Procedimento Executado\", \"Evidências\" e \"Solução\".\n",
        "\n",
        "## Exemplos de entrada:\n",
        "\n",
        "**Problema relatado: Loja informa que todos os celulares estão com problema ao finalizar a venda, não finaliza\n",
        "\n",
        "**Procedimento Executado: solicitado para atualizar versão do linxmobile pelo linx updater, ler o qrcode no PDV1 feito acesso ao celular ID ID0QPE Solicitado teste de venda, venda finalizada normalmente\n",
        "\n",
        "**Evidências:\n",
        "\n",
        "**Solução: resolveu com a atualizao\n",
        "\n",
        "\n",
        "##Ou apenas Digite o problema que a loja relatou e como você resolveu:\n",
        "\n",
        "Loja disse que o computador não estava ligando, solicitei para ligar o nobreak e o problema foi resolvido"
      ],
      "metadata": {
        "id": "EecJA1FPIbEn"
      }
    },
    {
      "cell_type": "code",
      "source": [],
      "metadata": {
        "id": "2bTYFiX4h1Ge"
      },
      "execution_count": null,
      "outputs": []
    }
  ]
}