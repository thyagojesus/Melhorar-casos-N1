{
  "nbformat": 4,
  "nbformat_minor": 0,
  "metadata": {
    "colab": {
      "provenance": [],
      "authorship_tag": "ABX9TyP243ae9ZIiF9OmeOtwyarc",
      "include_colab_link": true
    },
    "kernelspec": {
      "name": "python3",
      "display_name": "Python 3"
    },
    "language_info": {
      "name": "python"
    }
  },
  "cells": [
    {
      "cell_type": "markdown",
      "metadata": {
        "id": "view-in-github",
        "colab_type": "text"
      },
      "source": [
        "<a href=\"https://colab.research.google.com/github/thyagojesus/Melhorar-casos-N1/blob/main/Melhorar_Casos_N1.ipynb\" target=\"_parent\"><img src=\"https://colab.research.google.com/assets/colab-badge.svg\" alt=\"Open In Colab\"/></a>"
      ]
    },
    {
      "cell_type": "markdown",
      "metadata": {
        "id": "Tce3stUlHN0L"
      },
      "source": [
        "Melhoria de Casos N1"
      ]
    },
    {
      "cell_type": "code",
      "execution_count": 36,
      "metadata": {
        "id": "HTiaTu6O1LRC"
      },
      "outputs": [],
      "source": [
        "!pip install -q -U google-generativeai\n",
        "# Import the Python SDK\n",
        "import google.generativeai as genai\n",
        "# Used to securely store your API key\n",
        "from google.colab import userdata\n",
        "# Importa a função \"clear_output\" que permite limpar a saída da célula atual no Google Colab.\n",
        "from IPython.display import clear_output\n",
        "\n",
        "GOOGLE_API_KEY=userdata.get('GOOGLE_API_KEY')\n",
        "genai.configure(api_key=GOOGLE_API_KEY)"
      ]
    },
    {
      "cell_type": "code",
      "source": [
        "#for m in genai.list_models():\n",
        " # if 'generateContent' in m.supported_generation_methods:\n",
        "  #  print(m.name)"
      ],
      "metadata": {
        "id": "XSGFEsmOJvVU"
      },
      "execution_count": null,
      "outputs": []
    },
    {
      "cell_type": "code",
      "execution_count": 37,
      "metadata": {
        "id": "s-JqXcDe2hZ_"
      },
      "outputs": [],
      "source": [
        "model = genai.GenerativeModel('gemini-1.5-pro-latest')"
      ]
    },
    {
      "cell_type": "code",
      "execution_count": 72,
      "metadata": {
        "id": "j51mcrLD4Y2W"
      },
      "outputs": [],
      "source": [
        "orientacoes = \"\"\"Olá Gemini, preciso da sua ajuda para melhorar a descrição de alguns chamados.\n",
        "\n",
        "**Problema relatado:** Descreva de forma melhorada, clara e concisa o problema reportado pela franquia. Tente usar a maneira com que a franquia relatou, para que fique mais autêntico.\n",
        "\n",
        "**Procedimento Executado:** Liste as ações tomadas para investigar ou solucionar o problema até o momento. Mencione ferramentas utilizadas, testes realizados e resultados obtidos. Inclua detalhes relevantes, como nomes de sistemas, produtos, códigos de erro e ações que desencadeiam o problema. Adicione uma quebra de linha apos cada procedimento\n",
        "\n",
        "**Evidências:** Mencione quaisquer evidências coletadas, como prints, logs ou números de chamados. Se não houver evidências disponíveis, indique \"Sem evidências\".\n",
        "\n",
        "**Solução:** Descreva a solução implementada ou as próximas etapas a serem tomadas para resolver o problema. Se a solução ainda não foi encontrada, liste possíveis causas e soluções a serem investigadas. Priorize soluções práticas e imediatas para a franquia. É importante que a solução seja resumida, não ultrapassando 255 caracteres.\n",
        "\n",
        "**Por favor, lembre-se de:**\n",
        "\n",
        "* **Clareza e concisão:** As descrições devem ser fáceis de entender e ir direto ao ponto.\n",
        "* **Detalhes relevantes:** Inclua informações importantes que ajudem a entender o contexto do problema, como nomes de pessoas, sistemas e produtos envolvidos.\n",
        "* **Objetividade:** Evite opiniões pessoais ou julgamentos. Apresente os fatos de forma neutra.\n",
        "* **Foco na solução:** Direcione a descrição para a resolução do problema, apresentando as ações tomadas e as próximas etapas.\n",
        "* **Nomenclatura consistente:** Utilize termos técnicos de forma consistente ao longo da descrição.\n",
        "* **Personalização do atendimento:** Quando possível, mencione o nome da pessoa que está sendo atendida para demonstrar um atendimento personalizado.\n",
        "\n",
        "**Segue abaixo a estrutura dos casos, que não devem ser alterados:**\n",
        "\n",
        "---DETALHES DO CASO---\n",
        "*Problema relatado:*\n",
        "*Procedimento Executado:*\n",
        "*Evidências:*\n",
        "*Solução:*\n",
        "Importante:\"\"\""
      ]
    },
    {
      "cell_type": "markdown",
      "source": [
        "Para utilizá-lo, insira o texto do chamado a ser corrigido no input. mantendo a estrutura original com os campos \"Problema relatado\", \"Procedimento Executado\", \"Evidências\" e \"Solução\".\n",
        "\n",
        "# **Exemplos de entrada:**\n",
        "\n",
        "**Problema relatado: Loja informa que todos os celulares estão com problema ao finalizar a venda, não finaliza\n",
        "\n",
        "**Procedimento Executado: solicitado para atualizar versão do linxmobile pelo linx updater, ler o qrcode no PDV1 feito acesso ao celular ID ID0QPE Solicitado teste de venda, venda finalizada normalmente\n",
        "\n",
        "**Evidências:\n",
        "\n",
        "**Solução: resolveu com a atualizao\n",
        "\n",
        "\n",
        "**Ou apenas Digite o problema que a loja relatou e como você resolveu:**\n",
        "\n",
        "Loja disse que o computador não estava ligando, solicitei para ligar o nobreak e o problema foi resolvido"
      ],
      "metadata": {
        "id": "EecJA1FPIbEn"
      }
    },
    {
      "cell_type": "code",
      "source": [
        "\n",
        "prompt = 'novo expediente'\n",
        "while prompt != 'fim':\n",
        "  nome_arquivo = \"r.txt\"  # Define o nome do arquivo como \"r.txt\"\n",
        "\n",
        "  texto_entrada = input(\"Digite o chamado a ser corrigido/ou fim para encerrar : \")\n",
        "\n",
        "  with open(nome_arquivo, 'w') as f:  # Abre o arquivo no modo de escrita ('w')\n",
        "      f.write(texto_entrada)  # Escreve o texto do usuário no arquivo\n",
        "\n",
        "  # Agora, vamos ler o conteúdo do arquivo e armazenar na variável texto_usuario\n",
        "  with open(nome_arquivo, 'r') as f:  # Abre o arquivo no modo de leitura ('r')\n",
        "      texto_usuario = f.read()\n",
        "\n",
        "\n",
        "  #print(f\"O conteúdo do arquivo r.txt é: \\n{texto_usuario}\")\n",
        "\n",
        "  prompt = texto_usuario\n",
        "  if prompt != 'fim':\n",
        "    response = model.generate_content(f\"{orientacoes} \\n Com isso, corrija o seguinte chamado:\\n {texto_usuario}\")\n",
        "    clear_output()\n",
        "    print(response.text)\n",
        "  else:\n",
        "        print(\"Programa encerrado! Até a proxima.\")\n",
        "\n"
      ],
      "metadata": {
        "id": "IiqKoPCLD8KP",
        "outputId": "ae570545-a098-407e-a280-d113f36b3544",
        "colab": {
          "base_uri": "https://localhost:8080/",
          "height": 54
        }
      },
      "execution_count": 83,
      "outputs": [
        {
          "output_type": "stream",
          "name": "stdout",
          "text": [
            "## ---DETALHES DO CASO---\n",
            "**Problema relatado:** A loja reportou que todos os celulares estavam apresentando problemas para finalizar as vendas. \n",
            "**Procedimento Executado:** \n",
            "* Foi solicitado à loja que atualizasse a versão do Linx Mobile através do Linx Updater.\n",
            "* Realizado acesso remoto ao celular com ID ID0QPE e lido o QR code no PDV 1.\n",
            "* Solicitado um teste de venda, que foi finalizada com sucesso.\n",
            "\n",
            "**Evidências:** Sem evidências.\n",
            "\n",
            "**Solução:** O problema foi resolvido com a atualização do Linx Mobile. \n",
            "\n",
            "Digite o chamado a ser corrigido/ou fim para encerrar : fim\n",
            "Programa encerrado! Até a proxima.\n"
          ]
        }
      ]
    },
    {
      "cell_type": "code",
      "source": [],
      "metadata": {
        "id": "KEFmb5QBLn99"
      },
      "execution_count": null,
      "outputs": []
    }
  ]
}